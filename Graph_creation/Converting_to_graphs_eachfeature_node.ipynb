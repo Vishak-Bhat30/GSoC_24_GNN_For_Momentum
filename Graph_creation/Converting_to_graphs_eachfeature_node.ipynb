{
 "cells": [
  {
   "cell_type": "markdown",
   "id": "11a38109",
   "metadata": {
    "_cell_guid": "b1076dfc-b9ad-4769-8c92-a6c4dae69d19",
    "_uuid": "8f2839f25d086af736a60e9eeb907d3b93b6e0e5",
    "execution": {
     "iopub.execute_input": "2024-06-08T07:17:31.61566Z",
     "iopub.status.busy": "2024-06-08T07:17:31.615311Z",
     "iopub.status.idle": "2024-06-08T07:17:31.621747Z",
     "shell.execute_reply": "2024-06-08T07:17:31.620642Z",
     "shell.execute_reply.started": "2024-06-08T07:17:31.615631Z"
    },
    "papermill": {
     "duration": 0.012796,
     "end_time": "2024-06-08T17:21:54.504838",
     "exception": false,
     "start_time": "2024-06-08T17:21:54.492042",
     "status": "completed"
    },
    "tags": []
   },
   "source": [
    "# SETTING UP THE ENV"
   ]
  },
  {
   "cell_type": "markdown",
   "id": "e06a5879",
   "metadata": {
    "papermill": {
     "duration": 0.011409,
     "end_time": "2024-06-08T17:21:54.527918",
     "exception": false,
     "start_time": "2024-06-08T17:21:54.516509",
     "status": "completed"
    },
    "tags": []
   },
   "source": [
    "Lets impot Libraries"
   ]
  },
  {
   "cell_type": "code",
   "execution_count": 1,
   "id": "fd7f14c0",
   "metadata": {
    "execution": {
     "iopub.execute_input": "2024-06-08T17:21:54.553290Z",
     "iopub.status.busy": "2024-06-08T17:21:54.552801Z",
     "iopub.status.idle": "2024-06-08T17:22:13.851671Z",
     "shell.execute_reply": "2024-06-08T17:22:13.850246Z"
    },
    "papermill": {
     "duration": 19.31521,
     "end_time": "2024-06-08T17:22:13.854698",
     "exception": false,
     "start_time": "2024-06-08T17:21:54.539488",
     "status": "completed"
    },
    "scrolled": true,
    "tags": []
   },
   "outputs": [
    {
     "name": "stdout",
     "output_type": "stream",
     "text": [
      "Collecting torch-geometric\r\n",
      "  Downloading torch_geometric-2.5.3-py3-none-any.whl.metadata (64 kB)\r\n",
      "\u001b[2K     \u001b[90m━━━━━━━━━━━━━━━━━━━━━━━━━━━━━━━━━━━━━━━━\u001b[0m \u001b[32m64.2/64.2 kB\u001b[0m \u001b[31m3.0 MB/s\u001b[0m eta \u001b[36m0:00:00\u001b[0m\r\n",
      "\u001b[?25hRequirement already satisfied: tqdm in /opt/conda/lib/python3.10/site-packages (from torch-geometric) (4.66.4)\r\n",
      "Requirement already satisfied: numpy in /opt/conda/lib/python3.10/site-packages (from torch-geometric) (1.26.4)\r\n",
      "Requirement already satisfied: scipy in /opt/conda/lib/python3.10/site-packages (from torch-geometric) (1.11.4)\r\n",
      "Requirement already satisfied: fsspec in /opt/conda/lib/python3.10/site-packages (from torch-geometric) (2024.3.1)\r\n",
      "Requirement already satisfied: jinja2 in /opt/conda/lib/python3.10/site-packages (from torch-geometric) (3.1.2)\r\n",
      "Requirement already satisfied: aiohttp in /opt/conda/lib/python3.10/site-packages (from torch-geometric) (3.9.1)\r\n",
      "Requirement already satisfied: requests in /opt/conda/lib/python3.10/site-packages (from torch-geometric) (2.32.3)\r\n",
      "Requirement already satisfied: pyparsing in /opt/conda/lib/python3.10/site-packages (from torch-geometric) (3.1.1)\r\n",
      "Requirement already satisfied: scikit-learn in /opt/conda/lib/python3.10/site-packages (from torch-geometric) (1.2.2)\r\n",
      "Requirement already satisfied: psutil>=5.8.0 in /opt/conda/lib/python3.10/site-packages (from torch-geometric) (5.9.3)\r\n",
      "Requirement already satisfied: attrs>=17.3.0 in /opt/conda/lib/python3.10/site-packages (from aiohttp->torch-geometric) (23.2.0)\r\n",
      "Requirement already satisfied: multidict<7.0,>=4.5 in /opt/conda/lib/python3.10/site-packages (from aiohttp->torch-geometric) (6.0.4)\r\n",
      "Requirement already satisfied: yarl<2.0,>=1.0 in /opt/conda/lib/python3.10/site-packages (from aiohttp->torch-geometric) (1.9.3)\r\n",
      "Requirement already satisfied: frozenlist>=1.1.1 in /opt/conda/lib/python3.10/site-packages (from aiohttp->torch-geometric) (1.4.1)\r\n",
      "Requirement already satisfied: aiosignal>=1.1.2 in /opt/conda/lib/python3.10/site-packages (from aiohttp->torch-geometric) (1.3.1)\r\n",
      "Requirement already satisfied: async-timeout<5.0,>=4.0 in /opt/conda/lib/python3.10/site-packages (from aiohttp->torch-geometric) (4.0.3)\r\n",
      "Requirement already satisfied: MarkupSafe>=2.0 in /opt/conda/lib/python3.10/site-packages (from jinja2->torch-geometric) (2.1.3)\r\n",
      "Requirement already satisfied: charset-normalizer<4,>=2 in /opt/conda/lib/python3.10/site-packages (from requests->torch-geometric) (3.3.2)\r\n",
      "Requirement already satisfied: idna<4,>=2.5 in /opt/conda/lib/python3.10/site-packages (from requests->torch-geometric) (3.6)\r\n",
      "Requirement already satisfied: urllib3<3,>=1.21.1 in /opt/conda/lib/python3.10/site-packages (from requests->torch-geometric) (1.26.18)\r\n",
      "Requirement already satisfied: certifi>=2017.4.17 in /opt/conda/lib/python3.10/site-packages (from requests->torch-geometric) (2024.2.2)\r\n",
      "Requirement already satisfied: joblib>=1.1.1 in /opt/conda/lib/python3.10/site-packages (from scikit-learn->torch-geometric) (1.4.2)\r\n",
      "Requirement already satisfied: threadpoolctl>=2.0.0 in /opt/conda/lib/python3.10/site-packages (from scikit-learn->torch-geometric) (3.2.0)\r\n",
      "Downloading torch_geometric-2.5.3-py3-none-any.whl (1.1 MB)\r\n",
      "\u001b[2K   \u001b[90m━━━━━━━━━━━━━━━━━━━━━━━━━━━━━━━━━━━━━━━━\u001b[0m \u001b[32m1.1/1.1 MB\u001b[0m \u001b[31m15.8 MB/s\u001b[0m eta \u001b[36m0:00:00\u001b[0m\r\n",
      "\u001b[?25hInstalling collected packages: torch-geometric\r\n",
      "Successfully installed torch-geometric-2.5.3\r\n"
     ]
    }
   ],
   "source": [
    "#download necessary libraries\n",
    "\n",
    "!pip install torch-geometric"
   ]
  },
  {
   "cell_type": "code",
   "execution_count": 2,
   "id": "fdb470c1",
   "metadata": {
    "execution": {
     "iopub.execute_input": "2024-06-08T17:22:13.883852Z",
     "iopub.status.busy": "2024-06-08T17:22:13.882632Z",
     "iopub.status.idle": "2024-06-08T17:22:17.985720Z",
     "shell.execute_reply": "2024-06-08T17:22:17.984182Z"
    },
    "papermill": {
     "duration": 4.121038,
     "end_time": "2024-06-08T17:22:17.988884",
     "exception": false,
     "start_time": "2024-06-08T17:22:13.867846",
     "status": "completed"
    },
    "tags": []
   },
   "outputs": [
    {
     "name": "stdout",
     "output_type": "stream",
     "text": [
      "2.1.2+cpu\n",
      "None\n"
     ]
    }
   ],
   "source": [
    "import sys\n",
    "sys.path.append('/kaggle/working')\n",
    "# !ls /kaggle/working\n",
    "import torch\n",
    "print(torch.__version__)\n",
    "print(torch.version.cuda)"
   ]
  },
  {
   "cell_type": "code",
   "execution_count": 3,
   "id": "d359219d",
   "metadata": {
    "execution": {
     "iopub.execute_input": "2024-06-08T17:22:18.017301Z",
     "iopub.status.busy": "2024-06-08T17:22:18.016716Z",
     "iopub.status.idle": "2024-06-08T17:22:22.338854Z",
     "shell.execute_reply": "2024-06-08T17:22:22.337477Z"
    },
    "papermill": {
     "duration": 4.33987,
     "end_time": "2024-06-08T17:22:22.341972",
     "exception": false,
     "start_time": "2024-06-08T17:22:18.002102",
     "status": "completed"
    },
    "tags": []
   },
   "outputs": [],
   "source": [
    "from typing import Union, Tuple\n",
    "from torch_geometric.typing import OptPairTensor, Adj, Size # Optional[Tensor], Union[Tensor, SparseTensor], Optional[Tuple[int, int]], all about data type\n",
    "\n",
    "from torch import Tensor\n",
    "from torch.nn import Linear\n",
    "import torch.nn.functional as F\n",
    "from torch_geometric.nn.conv import MessagePassing"
   ]
  },
  {
   "cell_type": "code",
   "execution_count": 4,
   "id": "8536a092",
   "metadata": {
    "execution": {
     "iopub.execute_input": "2024-06-08T17:22:22.371074Z",
     "iopub.status.busy": "2024-06-08T17:22:22.370385Z",
     "iopub.status.idle": "2024-06-08T17:22:24.569049Z",
     "shell.execute_reply": "2024-06-08T17:22:24.567733Z"
    },
    "papermill": {
     "duration": 2.216483,
     "end_time": "2024-06-08T17:22:24.572185",
     "exception": false,
     "start_time": "2024-06-08T17:22:22.355702",
     "status": "completed"
    },
    "tags": []
   },
   "outputs": [],
   "source": [
    "import warnings\n",
    "warnings.filterwarnings(\"ignore\")\n",
    "import os\n",
    "import time\n",
    "import random\n",
    "from tqdm.notebook import tqdm\n",
    "import pandas as pd\n",
    "import numpy as np\n",
    "import matplotlib.pyplot as plt\n",
    "\n",
    "from joblib import Parallel, delayed\n",
    "\n",
    "from sklearn.preprocessing import StandardScaler, MinMaxScaler\n",
    "from sklearn.model_selection import train_test_split\n",
    "\n",
    "import torch\n",
    "import torch.nn.functional as F\n",
    "import torch_geometric.nn as gnn\n",
    "from torch_geometric.nn import MessagePassing\n",
    "from torch_geometric.data import Dataset, Data, DataLoader\n",
    "from torch_geometric.nn import global_mean_pool as gap, global_max_pool as gmp\n",
    "from torch_geometric.utils import softmax\n",
    "from sklearn.metrics import r2_score"
   ]
  },
  {
   "cell_type": "markdown",
   "id": "0bcacc57",
   "metadata": {
    "papermill": {
     "duration": 0.012533,
     "end_time": "2024-06-08T17:22:24.597803",
     "exception": false,
     "start_time": "2024-06-08T17:22:24.585270",
     "status": "completed"
    },
    "tags": []
   },
   "source": [
    "# Pre Processing"
   ]
  },
  {
   "cell_type": "code",
   "execution_count": 5,
   "id": "cd25767f",
   "metadata": {
    "execution": {
     "iopub.execute_input": "2024-06-08T17:22:24.625811Z",
     "iopub.status.busy": "2024-06-08T17:22:24.625156Z",
     "iopub.status.idle": "2024-06-08T17:22:33.025730Z",
     "shell.execute_reply": "2024-06-08T17:22:33.024559Z"
    },
    "papermill": {
     "duration": 8.417737,
     "end_time": "2024-06-08T17:22:33.028663",
     "exception": false,
     "start_time": "2024-06-08T17:22:24.610926",
     "status": "completed"
    },
    "tags": []
   },
   "outputs": [
    {
     "name": "stdout",
     "output_type": "stream",
     "text": [
      "Index(['Unnamed: 0', 'Phi_0', 'Phi_2', 'Phi_3', 'Phi_4', 'Theta_0', 'Theta_2',\n",
      "       'Theta_3', 'Theta_4', 'BendingAngle_0', 'BendingAngle_2',\n",
      "       'BendingAngle_3', 'BendingAngle_4', 'TimeInfo_0', 'TimeInfo_2',\n",
      "       'TimeInfo_3', 'TimeInfo_4', 'RingNumber_0', 'RingNumber_2',\n",
      "       'RingNumber_3', 'RingNumber_4', 'Front_0', 'Front_2', 'Front_3',\n",
      "       'Front_4', 'Mask_0', 'Mask_2', 'Mask_3', 'Mask_4',\n",
      "       'PatternStraightness', 'Zone', 'MedianTheta', 'q/pt', 'PhiAngle',\n",
      "       'EtaAngle'],\n",
      "      dtype='object')\n"
     ]
    }
   ],
   "source": [
    "df = pd.read_csv('/kaggle/input/cms-dataset/CMS_trigger.csv')\n",
    "print(df.columns)"
   ]
  },
  {
   "cell_type": "code",
   "execution_count": 6,
   "id": "fa8667e4",
   "metadata": {
    "execution": {
     "iopub.execute_input": "2024-06-08T17:22:33.056886Z",
     "iopub.status.busy": "2024-06-08T17:22:33.056448Z",
     "iopub.status.idle": "2024-06-08T17:22:33.103916Z",
     "shell.execute_reply": "2024-06-08T17:22:33.102745Z"
    },
    "papermill": {
     "duration": 0.064598,
     "end_time": "2024-06-08T17:22:33.106598",
     "exception": false,
     "start_time": "2024-06-08T17:22:33.042000",
     "status": "completed"
    },
    "tags": []
   },
   "outputs": [
    {
     "data": {
      "text/html": [
       "<div>\n",
       "<style scoped>\n",
       "    .dataframe tbody tr th:only-of-type {\n",
       "        vertical-align: middle;\n",
       "    }\n",
       "\n",
       "    .dataframe tbody tr th {\n",
       "        vertical-align: top;\n",
       "    }\n",
       "\n",
       "    .dataframe thead th {\n",
       "        text-align: right;\n",
       "    }\n",
       "</style>\n",
       "<table border=\"1\" class=\"dataframe\">\n",
       "  <thead>\n",
       "    <tr style=\"text-align: right;\">\n",
       "      <th></th>\n",
       "      <th>Unnamed: 0</th>\n",
       "      <th>Phi_0</th>\n",
       "      <th>Phi_2</th>\n",
       "      <th>Phi_3</th>\n",
       "      <th>Phi_4</th>\n",
       "      <th>Theta_0</th>\n",
       "      <th>Theta_2</th>\n",
       "      <th>Theta_3</th>\n",
       "      <th>Theta_4</th>\n",
       "      <th>BendingAngle_0</th>\n",
       "      <th>...</th>\n",
       "      <th>Mask_0</th>\n",
       "      <th>Mask_2</th>\n",
       "      <th>Mask_3</th>\n",
       "      <th>Mask_4</th>\n",
       "      <th>PatternStraightness</th>\n",
       "      <th>Zone</th>\n",
       "      <th>MedianTheta</th>\n",
       "      <th>q/pt</th>\n",
       "      <th>PhiAngle</th>\n",
       "      <th>EtaAngle</th>\n",
       "    </tr>\n",
       "  </thead>\n",
       "  <tbody>\n",
       "    <tr>\n",
       "      <th>0</th>\n",
       "      <td>0</td>\n",
       "      <td>58.066666</td>\n",
       "      <td>55.466667</td>\n",
       "      <td>55.466667</td>\n",
       "      <td>56.000000</td>\n",
       "      <td>11.970</td>\n",
       "      <td>11.684999</td>\n",
       "      <td>11.400</td>\n",
       "      <td>11.400</td>\n",
       "      <td>-13.000000</td>\n",
       "      <td>...</td>\n",
       "      <td>0.0</td>\n",
       "      <td>0.0</td>\n",
       "      <td>0.0</td>\n",
       "      <td>0.0</td>\n",
       "      <td>5.0</td>\n",
       "      <td>3.0</td>\n",
       "      <td>105.0</td>\n",
       "      <td>0.181209</td>\n",
       "      <td>-3.075936</td>\n",
       "      <td>1.722345</td>\n",
       "    </tr>\n",
       "    <tr>\n",
       "      <th>1</th>\n",
       "      <td>1</td>\n",
       "      <td>64.583336</td>\n",
       "      <td>66.800000</td>\n",
       "      <td>67.066666</td>\n",
       "      <td>67.200000</td>\n",
       "      <td>6.555</td>\n",
       "      <td>6.840000</td>\n",
       "      <td>6.555</td>\n",
       "      <td>6.840</td>\n",
       "      <td>7.000000</td>\n",
       "      <td>...</td>\n",
       "      <td>0.0</td>\n",
       "      <td>0.0</td>\n",
       "      <td>0.0</td>\n",
       "      <td>0.0</td>\n",
       "      <td>3.0</td>\n",
       "      <td>1.0</td>\n",
       "      <td>124.0</td>\n",
       "      <td>-0.146131</td>\n",
       "      <td>-0.167139</td>\n",
       "      <td>2.012122</td>\n",
       "    </tr>\n",
       "    <tr>\n",
       "      <th>2</th>\n",
       "      <td>2</td>\n",
       "      <td>71.150000</td>\n",
       "      <td>67.033330</td>\n",
       "      <td>66.266670</td>\n",
       "      <td>65.466670</td>\n",
       "      <td>2.850</td>\n",
       "      <td>2.565000</td>\n",
       "      <td>2.280</td>\n",
       "      <td>2.280</td>\n",
       "      <td>-16.613783</td>\n",
       "      <td>...</td>\n",
       "      <td>0.0</td>\n",
       "      <td>0.0</td>\n",
       "      <td>0.0</td>\n",
       "      <td>0.0</td>\n",
       "      <td>7.0</td>\n",
       "      <td>0.0</td>\n",
       "      <td>127.0</td>\n",
       "      <td>0.367024</td>\n",
       "      <td>2.431823</td>\n",
       "      <td>2.321646</td>\n",
       "    </tr>\n",
       "    <tr>\n",
       "      <th>3</th>\n",
       "      <td>3</td>\n",
       "      <td>34.933334</td>\n",
       "      <td>31.200000</td>\n",
       "      <td>31.200000</td>\n",
       "      <td>31.833334</td>\n",
       "      <td>9.690</td>\n",
       "      <td>8.835000</td>\n",
       "      <td>8.835</td>\n",
       "      <td>9.120</td>\n",
       "      <td>-13.000000</td>\n",
       "      <td>...</td>\n",
       "      <td>0.0</td>\n",
       "      <td>0.0</td>\n",
       "      <td>0.0</td>\n",
       "      <td>0.0</td>\n",
       "      <td>6.0</td>\n",
       "      <td>2.0</td>\n",
       "      <td>60.0</td>\n",
       "      <td>0.267774</td>\n",
       "      <td>-1.343305</td>\n",
       "      <td>1.854506</td>\n",
       "    </tr>\n",
       "    <tr>\n",
       "      <th>4</th>\n",
       "      <td>4</td>\n",
       "      <td>68.150000</td>\n",
       "      <td>68.266670</td>\n",
       "      <td>68.300000</td>\n",
       "      <td>68.400000</td>\n",
       "      <td>2.565</td>\n",
       "      <td>2.565000</td>\n",
       "      <td>2.565</td>\n",
       "      <td>2.565</td>\n",
       "      <td>0.000000</td>\n",
       "      <td>...</td>\n",
       "      <td>0.0</td>\n",
       "      <td>0.0</td>\n",
       "      <td>0.0</td>\n",
       "      <td>0.0</td>\n",
       "      <td>4.0</td>\n",
       "      <td>0.0</td>\n",
       "      <td>128.0</td>\n",
       "      <td>-0.019179</td>\n",
       "      <td>-3.134433</td>\n",
       "      <td>2.333772</td>\n",
       "    </tr>\n",
       "  </tbody>\n",
       "</table>\n",
       "<p>5 rows × 35 columns</p>\n",
       "</div>"
      ],
      "text/plain": [
       "   Unnamed: 0      Phi_0      Phi_2      Phi_3      Phi_4  Theta_0    Theta_2  \\\n",
       "0           0  58.066666  55.466667  55.466667  56.000000   11.970  11.684999   \n",
       "1           1  64.583336  66.800000  67.066666  67.200000    6.555   6.840000   \n",
       "2           2  71.150000  67.033330  66.266670  65.466670    2.850   2.565000   \n",
       "3           3  34.933334  31.200000  31.200000  31.833334    9.690   8.835000   \n",
       "4           4  68.150000  68.266670  68.300000  68.400000    2.565   2.565000   \n",
       "\n",
       "   Theta_3  Theta_4  BendingAngle_0  ...  Mask_0  Mask_2  Mask_3  Mask_4  \\\n",
       "0   11.400   11.400      -13.000000  ...     0.0     0.0     0.0     0.0   \n",
       "1    6.555    6.840        7.000000  ...     0.0     0.0     0.0     0.0   \n",
       "2    2.280    2.280      -16.613783  ...     0.0     0.0     0.0     0.0   \n",
       "3    8.835    9.120      -13.000000  ...     0.0     0.0     0.0     0.0   \n",
       "4    2.565    2.565        0.000000  ...     0.0     0.0     0.0     0.0   \n",
       "\n",
       "   PatternStraightness  Zone  MedianTheta      q/pt  PhiAngle  EtaAngle  \n",
       "0                  5.0   3.0        105.0  0.181209 -3.075936  1.722345  \n",
       "1                  3.0   1.0        124.0 -0.146131 -0.167139  2.012122  \n",
       "2                  7.0   0.0        127.0  0.367024  2.431823  2.321646  \n",
       "3                  6.0   2.0         60.0  0.267774 -1.343305  1.854506  \n",
       "4                  4.0   0.0        128.0 -0.019179 -3.134433  2.333772  \n",
       "\n",
       "[5 rows x 35 columns]"
      ]
     },
     "execution_count": 6,
     "metadata": {},
     "output_type": "execute_result"
    }
   ],
   "source": [
    "df.head()"
   ]
  },
  {
   "cell_type": "code",
   "execution_count": 7,
   "id": "2968f007",
   "metadata": {
    "execution": {
     "iopub.execute_input": "2024-06-08T17:22:33.137151Z",
     "iopub.status.busy": "2024-06-08T17:22:33.136371Z",
     "iopub.status.idle": "2024-06-08T17:22:34.825772Z",
     "shell.execute_reply": "2024-06-08T17:22:34.824335Z"
    },
    "papermill": {
     "duration": 1.708433,
     "end_time": "2024-06-08T17:22:34.828718",
     "exception": false,
     "start_time": "2024-06-08T17:22:33.120285",
     "status": "completed"
    },
    "tags": []
   },
   "outputs": [
    {
     "data": {
      "text/html": [
       "<div>\n",
       "<style scoped>\n",
       "    .dataframe tbody tr th:only-of-type {\n",
       "        vertical-align: middle;\n",
       "    }\n",
       "\n",
       "    .dataframe tbody tr th {\n",
       "        vertical-align: top;\n",
       "    }\n",
       "\n",
       "    .dataframe thead th {\n",
       "        text-align: right;\n",
       "    }\n",
       "</style>\n",
       "<table border=\"1\" class=\"dataframe\">\n",
       "  <thead>\n",
       "    <tr style=\"text-align: right;\">\n",
       "      <th></th>\n",
       "      <th>Unnamed: 0</th>\n",
       "      <th>Phi_0</th>\n",
       "      <th>Phi_2</th>\n",
       "      <th>Phi_3</th>\n",
       "      <th>Phi_4</th>\n",
       "      <th>Theta_0</th>\n",
       "      <th>Theta_2</th>\n",
       "      <th>Theta_3</th>\n",
       "      <th>Theta_4</th>\n",
       "      <th>BendingAngle_0</th>\n",
       "      <th>...</th>\n",
       "      <th>Mask_0</th>\n",
       "      <th>Mask_2</th>\n",
       "      <th>Mask_3</th>\n",
       "      <th>Mask_4</th>\n",
       "      <th>PatternStraightness</th>\n",
       "      <th>Zone</th>\n",
       "      <th>MedianTheta</th>\n",
       "      <th>q/pt</th>\n",
       "      <th>PhiAngle</th>\n",
       "      <th>EtaAngle</th>\n",
       "    </tr>\n",
       "  </thead>\n",
       "  <tbody>\n",
       "    <tr>\n",
       "      <th>count</th>\n",
       "      <td>1.179356e+06</td>\n",
       "      <td>1.179356e+06</td>\n",
       "      <td>1.179356e+06</td>\n",
       "      <td>1.179356e+06</td>\n",
       "      <td>1.179356e+06</td>\n",
       "      <td>1.179356e+06</td>\n",
       "      <td>1.179356e+06</td>\n",
       "      <td>1.179356e+06</td>\n",
       "      <td>1.179356e+06</td>\n",
       "      <td>1.179356e+06</td>\n",
       "      <td>...</td>\n",
       "      <td>1179356.0</td>\n",
       "      <td>1179356.0</td>\n",
       "      <td>1179356.0</td>\n",
       "      <td>1179356.0</td>\n",
       "      <td>1.179356e+06</td>\n",
       "      <td>1.179356e+06</td>\n",
       "      <td>1.179356e+06</td>\n",
       "      <td>1.179356e+06</td>\n",
       "      <td>1.179356e+06</td>\n",
       "      <td>1.179356e+06</td>\n",
       "    </tr>\n",
       "    <tr>\n",
       "      <th>mean</th>\n",
       "      <td>5.896775e+05</td>\n",
       "      <td>4.851559e+01</td>\n",
       "      <td>4.851127e+01</td>\n",
       "      <td>4.851076e+01</td>\n",
       "      <td>4.851331e+01</td>\n",
       "      <td>6.195453e+00</td>\n",
       "      <td>5.918753e+00</td>\n",
       "      <td>5.848332e+00</td>\n",
       "      <td>5.881490e+00</td>\n",
       "      <td>5.603115e-02</td>\n",
       "      <td>...</td>\n",
       "      <td>0.0</td>\n",
       "      <td>0.0</td>\n",
       "      <td>0.0</td>\n",
       "      <td>0.0</td>\n",
       "      <td>3.976490e+00</td>\n",
       "      <td>1.080514e+00</td>\n",
       "      <td>9.115961e+01</td>\n",
       "      <td>5.540485e-04</td>\n",
       "      <td>8.881380e-04</td>\n",
       "      <td>8.762006e-04</td>\n",
       "    </tr>\n",
       "    <tr>\n",
       "      <th>std</th>\n",
       "      <td>3.404509e+05</td>\n",
       "      <td>1.774647e+01</td>\n",
       "      <td>1.779697e+01</td>\n",
       "      <td>1.781670e+01</td>\n",
       "      <td>1.779750e+01</td>\n",
       "      <td>3.011983e+00</td>\n",
       "      <td>2.921076e+00</td>\n",
       "      <td>2.911875e+00</td>\n",
       "      <td>2.906416e+00</td>\n",
       "      <td>1.493805e+01</td>\n",
       "      <td>...</td>\n",
       "      <td>0.0</td>\n",
       "      <td>0.0</td>\n",
       "      <td>0.0</td>\n",
       "      <td>0.0</td>\n",
       "      <td>1.871622e+00</td>\n",
       "      <td>1.089190e+00</td>\n",
       "      <td>3.328909e+01</td>\n",
       "      <td>2.524173e-01</td>\n",
       "      <td>1.820920e+00</td>\n",
       "      <td>2.075298e+00</td>\n",
       "    </tr>\n",
       "    <tr>\n",
       "      <th>min</th>\n",
       "      <td>0.000000e+00</td>\n",
       "      <td>1.103333e+01</td>\n",
       "      <td>2.400000e+00</td>\n",
       "      <td>2.666667e+00</td>\n",
       "      <td>2.666667e+00</td>\n",
       "      <td>1.425000e+00</td>\n",
       "      <td>1.425000e+00</td>\n",
       "      <td>1.425000e+00</td>\n",
       "      <td>1.710000e+00</td>\n",
       "      <td>-1.329103e+02</td>\n",
       "      <td>...</td>\n",
       "      <td>0.0</td>\n",
       "      <td>0.0</td>\n",
       "      <td>0.0</td>\n",
       "      <td>0.0</td>\n",
       "      <td>0.000000e+00</td>\n",
       "      <td>0.000000e+00</td>\n",
       "      <td>8.000000e+00</td>\n",
       "      <td>-4.999928e-01</td>\n",
       "      <td>-3.141584e+00</td>\n",
       "      <td>-2.499009e+00</td>\n",
       "    </tr>\n",
       "    <tr>\n",
       "      <th>25%</th>\n",
       "      <td>2.948388e+05</td>\n",
       "      <td>3.371667e+01</td>\n",
       "      <td>3.360000e+01</td>\n",
       "      <td>3.360000e+01</td>\n",
       "      <td>3.360000e+01</td>\n",
       "      <td>3.705000e+00</td>\n",
       "      <td>3.420000e+00</td>\n",
       "      <td>3.420000e+00</td>\n",
       "      <td>3.420000e+00</td>\n",
       "      <td>-1.100000e+01</td>\n",
       "      <td>...</td>\n",
       "      <td>0.0</td>\n",
       "      <td>0.0</td>\n",
       "      <td>0.0</td>\n",
       "      <td>0.0</td>\n",
       "      <td>3.000000e+00</td>\n",
       "      <td>0.000000e+00</td>\n",
       "      <td>6.300000e+01</td>\n",
       "      <td>-2.055347e-01</td>\n",
       "      <td>-1.584667e+00</td>\n",
       "      <td>-2.074832e+00</td>\n",
       "    </tr>\n",
       "    <tr>\n",
       "      <th>50%</th>\n",
       "      <td>5.896775e+05</td>\n",
       "      <td>4.830000e+01</td>\n",
       "      <td>4.826667e+01</td>\n",
       "      <td>4.826667e+01</td>\n",
       "      <td>4.826667e+01</td>\n",
       "      <td>5.700000e+00</td>\n",
       "      <td>5.415000e+00</td>\n",
       "      <td>5.415000e+00</td>\n",
       "      <td>5.415000e+00</td>\n",
       "      <td>0.000000e+00</td>\n",
       "      <td>...</td>\n",
       "      <td>0.0</td>\n",
       "      <td>0.0</td>\n",
       "      <td>0.0</td>\n",
       "      <td>0.0</td>\n",
       "      <td>4.000000e+00</td>\n",
       "      <td>1.000000e+00</td>\n",
       "      <td>9.100000e+01</td>\n",
       "      <td>2.155910e-04</td>\n",
       "      <td>8.142424e-03</td>\n",
       "      <td>1.523139e+00</td>\n",
       "    </tr>\n",
       "    <tr>\n",
       "      <th>75%</th>\n",
       "      <td>8.845162e+05</td>\n",
       "      <td>6.326667e+01</td>\n",
       "      <td>6.303333e+01</td>\n",
       "      <td>6.293333e+01</td>\n",
       "      <td>6.296667e+01</td>\n",
       "      <td>8.265000e+00</td>\n",
       "      <td>7.980000e+00</td>\n",
       "      <td>7.695000e+00</td>\n",
       "      <td>7.980000e+00</td>\n",
       "      <td>1.100000e+01</td>\n",
       "      <td>...</td>\n",
       "      <td>0.0</td>\n",
       "      <td>0.0</td>\n",
       "      <td>0.0</td>\n",
       "      <td>0.0</td>\n",
       "      <td>5.000000e+00</td>\n",
       "      <td>2.000000e+00</td>\n",
       "      <td>1.180000e+02</td>\n",
       "      <td>2.069167e-01</td>\n",
       "      <td>1.581958e+00</td>\n",
       "      <td>2.074729e+00</td>\n",
       "    </tr>\n",
       "    <tr>\n",
       "      <th>max</th>\n",
       "      <td>1.179355e+06</td>\n",
       "      <td>8.311667e+01</td>\n",
       "      <td>8.256667e+01</td>\n",
       "      <td>8.253333e+01</td>\n",
       "      <td>8.253333e+01</td>\n",
       "      <td>1.510500e+01</td>\n",
       "      <td>1.396500e+01</td>\n",
       "      <td>1.539000e+01</td>\n",
       "      <td>1.510500e+01</td>\n",
       "      <td>1.421401e+02</td>\n",
       "      <td>...</td>\n",
       "      <td>0.0</td>\n",
       "      <td>0.0</td>\n",
       "      <td>0.0</td>\n",
       "      <td>0.0</td>\n",
       "      <td>8.000000e+00</td>\n",
       "      <td>4.000000e+00</td>\n",
       "      <td>1.540000e+02</td>\n",
       "      <td>4.999991e-01</td>\n",
       "      <td>3.141592e+00</td>\n",
       "      <td>2.493834e+00</td>\n",
       "    </tr>\n",
       "  </tbody>\n",
       "</table>\n",
       "<p>8 rows × 35 columns</p>\n",
       "</div>"
      ],
      "text/plain": [
       "         Unnamed: 0         Phi_0         Phi_2         Phi_3         Phi_4  \\\n",
       "count  1.179356e+06  1.179356e+06  1.179356e+06  1.179356e+06  1.179356e+06   \n",
       "mean   5.896775e+05  4.851559e+01  4.851127e+01  4.851076e+01  4.851331e+01   \n",
       "std    3.404509e+05  1.774647e+01  1.779697e+01  1.781670e+01  1.779750e+01   \n",
       "min    0.000000e+00  1.103333e+01  2.400000e+00  2.666667e+00  2.666667e+00   \n",
       "25%    2.948388e+05  3.371667e+01  3.360000e+01  3.360000e+01  3.360000e+01   \n",
       "50%    5.896775e+05  4.830000e+01  4.826667e+01  4.826667e+01  4.826667e+01   \n",
       "75%    8.845162e+05  6.326667e+01  6.303333e+01  6.293333e+01  6.296667e+01   \n",
       "max    1.179355e+06  8.311667e+01  8.256667e+01  8.253333e+01  8.253333e+01   \n",
       "\n",
       "            Theta_0       Theta_2       Theta_3       Theta_4  BendingAngle_0  \\\n",
       "count  1.179356e+06  1.179356e+06  1.179356e+06  1.179356e+06    1.179356e+06   \n",
       "mean   6.195453e+00  5.918753e+00  5.848332e+00  5.881490e+00    5.603115e-02   \n",
       "std    3.011983e+00  2.921076e+00  2.911875e+00  2.906416e+00    1.493805e+01   \n",
       "min    1.425000e+00  1.425000e+00  1.425000e+00  1.710000e+00   -1.329103e+02   \n",
       "25%    3.705000e+00  3.420000e+00  3.420000e+00  3.420000e+00   -1.100000e+01   \n",
       "50%    5.700000e+00  5.415000e+00  5.415000e+00  5.415000e+00    0.000000e+00   \n",
       "75%    8.265000e+00  7.980000e+00  7.695000e+00  7.980000e+00    1.100000e+01   \n",
       "max    1.510500e+01  1.396500e+01  1.539000e+01  1.510500e+01    1.421401e+02   \n",
       "\n",
       "       ...     Mask_0     Mask_2     Mask_3     Mask_4  PatternStraightness  \\\n",
       "count  ...  1179356.0  1179356.0  1179356.0  1179356.0         1.179356e+06   \n",
       "mean   ...        0.0        0.0        0.0        0.0         3.976490e+00   \n",
       "std    ...        0.0        0.0        0.0        0.0         1.871622e+00   \n",
       "min    ...        0.0        0.0        0.0        0.0         0.000000e+00   \n",
       "25%    ...        0.0        0.0        0.0        0.0         3.000000e+00   \n",
       "50%    ...        0.0        0.0        0.0        0.0         4.000000e+00   \n",
       "75%    ...        0.0        0.0        0.0        0.0         5.000000e+00   \n",
       "max    ...        0.0        0.0        0.0        0.0         8.000000e+00   \n",
       "\n",
       "               Zone   MedianTheta          q/pt      PhiAngle      EtaAngle  \n",
       "count  1.179356e+06  1.179356e+06  1.179356e+06  1.179356e+06  1.179356e+06  \n",
       "mean   1.080514e+00  9.115961e+01  5.540485e-04  8.881380e-04  8.762006e-04  \n",
       "std    1.089190e+00  3.328909e+01  2.524173e-01  1.820920e+00  2.075298e+00  \n",
       "min    0.000000e+00  8.000000e+00 -4.999928e-01 -3.141584e+00 -2.499009e+00  \n",
       "25%    0.000000e+00  6.300000e+01 -2.055347e-01 -1.584667e+00 -2.074832e+00  \n",
       "50%    1.000000e+00  9.100000e+01  2.155910e-04  8.142424e-03  1.523139e+00  \n",
       "75%    2.000000e+00  1.180000e+02  2.069167e-01  1.581958e+00  2.074729e+00  \n",
       "max    4.000000e+00  1.540000e+02  4.999991e-01  3.141592e+00  2.493834e+00  \n",
       "\n",
       "[8 rows x 35 columns]"
      ]
     },
     "execution_count": 7,
     "metadata": {},
     "output_type": "execute_result"
    }
   ],
   "source": [
    "df.describe()"
   ]
  },
  {
   "cell_type": "code",
   "execution_count": 8,
   "id": "070dea42",
   "metadata": {
    "execution": {
     "iopub.execute_input": "2024-06-08T17:22:34.858436Z",
     "iopub.status.busy": "2024-06-08T17:22:34.858043Z",
     "iopub.status.idle": "2024-06-08T17:22:34.862953Z",
     "shell.execute_reply": "2024-06-08T17:22:34.861824Z"
    },
    "papermill": {
     "duration": 0.022555,
     "end_time": "2024-06-08T17:22:34.865331",
     "exception": false,
     "start_time": "2024-06-08T17:22:34.842776",
     "status": "completed"
    },
    "tags": []
   },
   "outputs": [],
   "source": [
    "#HOW MOMENTUM NEGATIVE??"
   ]
  },
  {
   "cell_type": "markdown",
   "id": "d0222c50",
   "metadata": {
    "papermill": {
     "duration": 0.013773,
     "end_time": "2024-06-08T17:22:34.893207",
     "exception": false,
     "start_time": "2024-06-08T17:22:34.879434",
     "status": "completed"
    },
    "tags": []
   },
   "source": [
    "**The data is not scaled, so we would have to scale the data first before we proceed to train a model on the data**"
   ]
  },
  {
   "cell_type": "markdown",
   "id": "426b60d5",
   "metadata": {
    "papermill": {
     "duration": 0.013777,
     "end_time": "2024-06-08T17:22:34.920893",
     "exception": false,
     "start_time": "2024-06-08T17:22:34.907116",
     "status": "completed"
    },
    "tags": []
   },
   "source": [
    "**To begin with lets  scale the data by using Standard Scalar**"
   ]
  },
  {
   "cell_type": "code",
   "execution_count": 9,
   "id": "7b657133",
   "metadata": {
    "execution": {
     "iopub.execute_input": "2024-06-08T17:22:34.950823Z",
     "iopub.status.busy": "2024-06-08T17:22:34.950379Z",
     "iopub.status.idle": "2024-06-08T17:22:34.955915Z",
     "shell.execute_reply": "2024-06-08T17:22:34.954677Z"
    },
    "papermill": {
     "duration": 0.02348,
     "end_time": "2024-06-08T17:22:34.958427",
     "exception": false,
     "start_time": "2024-06-08T17:22:34.934947",
     "status": "completed"
    },
    "tags": []
   },
   "outputs": [],
   "source": [
    "scaler = StandardScaler()"
   ]
  },
  {
   "cell_type": "code",
   "execution_count": 10,
   "id": "0fc1e6d9",
   "metadata": {
    "execution": {
     "iopub.execute_input": "2024-06-08T17:22:34.988967Z",
     "iopub.status.busy": "2024-06-08T17:22:34.988499Z",
     "iopub.status.idle": "2024-06-08T17:22:35.673803Z",
     "shell.execute_reply": "2024-06-08T17:22:35.672541Z"
    },
    "papermill": {
     "duration": 0.703908,
     "end_time": "2024-06-08T17:22:35.676565",
     "exception": false,
     "start_time": "2024-06-08T17:22:34.972657",
     "status": "completed"
    },
    "tags": []
   },
   "outputs": [],
   "source": [
    "df.loc[:,\"Phi_0\":\"MedianTheta\"] = scaler.fit_transform(df.loc[:,\"Phi_0\":\"MedianTheta\"])"
   ]
  },
  {
   "cell_type": "code",
   "execution_count": 11,
   "id": "90e78d9a",
   "metadata": {
    "execution": {
     "iopub.execute_input": "2024-06-08T17:22:35.707512Z",
     "iopub.status.busy": "2024-06-08T17:22:35.706487Z",
     "iopub.status.idle": "2024-06-08T17:22:37.372161Z",
     "shell.execute_reply": "2024-06-08T17:22:37.370995Z"
    },
    "papermill": {
     "duration": 1.683992,
     "end_time": "2024-06-08T17:22:37.374862",
     "exception": false,
     "start_time": "2024-06-08T17:22:35.690870",
     "status": "completed"
    },
    "tags": []
   },
   "outputs": [
    {
     "data": {
      "text/html": [
       "<div>\n",
       "<style scoped>\n",
       "    .dataframe tbody tr th:only-of-type {\n",
       "        vertical-align: middle;\n",
       "    }\n",
       "\n",
       "    .dataframe tbody tr th {\n",
       "        vertical-align: top;\n",
       "    }\n",
       "\n",
       "    .dataframe thead th {\n",
       "        text-align: right;\n",
       "    }\n",
       "</style>\n",
       "<table border=\"1\" class=\"dataframe\">\n",
       "  <thead>\n",
       "    <tr style=\"text-align: right;\">\n",
       "      <th></th>\n",
       "      <th>Unnamed: 0</th>\n",
       "      <th>Phi_0</th>\n",
       "      <th>Phi_2</th>\n",
       "      <th>Phi_3</th>\n",
       "      <th>Phi_4</th>\n",
       "      <th>Theta_0</th>\n",
       "      <th>Theta_2</th>\n",
       "      <th>Theta_3</th>\n",
       "      <th>Theta_4</th>\n",
       "      <th>BendingAngle_0</th>\n",
       "      <th>...</th>\n",
       "      <th>Mask_0</th>\n",
       "      <th>Mask_2</th>\n",
       "      <th>Mask_3</th>\n",
       "      <th>Mask_4</th>\n",
       "      <th>PatternStraightness</th>\n",
       "      <th>Zone</th>\n",
       "      <th>MedianTheta</th>\n",
       "      <th>q/pt</th>\n",
       "      <th>PhiAngle</th>\n",
       "      <th>EtaAngle</th>\n",
       "    </tr>\n",
       "  </thead>\n",
       "  <tbody>\n",
       "    <tr>\n",
       "      <th>count</th>\n",
       "      <td>1.179356e+06</td>\n",
       "      <td>1.179356e+06</td>\n",
       "      <td>1.179356e+06</td>\n",
       "      <td>1.179356e+06</td>\n",
       "      <td>1.179356e+06</td>\n",
       "      <td>1.179356e+06</td>\n",
       "      <td>1.179356e+06</td>\n",
       "      <td>1.179356e+06</td>\n",
       "      <td>1.179356e+06</td>\n",
       "      <td>1.179356e+06</td>\n",
       "      <td>...</td>\n",
       "      <td>1179356.0</td>\n",
       "      <td>1179356.0</td>\n",
       "      <td>1179356.0</td>\n",
       "      <td>1179356.0</td>\n",
       "      <td>1.179356e+06</td>\n",
       "      <td>1.179356e+06</td>\n",
       "      <td>1.179356e+06</td>\n",
       "      <td>1.179356e+06</td>\n",
       "      <td>1.179356e+06</td>\n",
       "      <td>1.179356e+06</td>\n",
       "    </tr>\n",
       "    <tr>\n",
       "      <th>mean</th>\n",
       "      <td>5.896775e+05</td>\n",
       "      <td>7.146661e-17</td>\n",
       "      <td>-2.706296e-16</td>\n",
       "      <td>-7.705465e-16</td>\n",
       "      <td>-3.355171e-16</td>\n",
       "      <td>-2.781065e-16</td>\n",
       "      <td>8.641905e-16</td>\n",
       "      <td>6.533453e-16</td>\n",
       "      <td>3.205695e-16</td>\n",
       "      <td>2.842518e-17</td>\n",
       "      <td>...</td>\n",
       "      <td>0.0</td>\n",
       "      <td>0.0</td>\n",
       "      <td>0.0</td>\n",
       "      <td>0.0</td>\n",
       "      <td>-4.221603e-17</td>\n",
       "      <td>-8.916758e-18</td>\n",
       "      <td>1.504040e-16</td>\n",
       "      <td>5.540485e-04</td>\n",
       "      <td>8.881380e-04</td>\n",
       "      <td>8.762006e-04</td>\n",
       "    </tr>\n",
       "    <tr>\n",
       "      <th>std</th>\n",
       "      <td>3.404509e+05</td>\n",
       "      <td>1.000000e+00</td>\n",
       "      <td>1.000000e+00</td>\n",
       "      <td>1.000000e+00</td>\n",
       "      <td>1.000000e+00</td>\n",
       "      <td>1.000000e+00</td>\n",
       "      <td>1.000000e+00</td>\n",
       "      <td>1.000000e+00</td>\n",
       "      <td>1.000000e+00</td>\n",
       "      <td>1.000000e+00</td>\n",
       "      <td>...</td>\n",
       "      <td>0.0</td>\n",
       "      <td>0.0</td>\n",
       "      <td>0.0</td>\n",
       "      <td>0.0</td>\n",
       "      <td>1.000000e+00</td>\n",
       "      <td>1.000000e+00</td>\n",
       "      <td>1.000000e+00</td>\n",
       "      <td>2.524173e-01</td>\n",
       "      <td>1.820920e+00</td>\n",
       "      <td>2.075298e+00</td>\n",
       "    </tr>\n",
       "    <tr>\n",
       "      <th>min</th>\n",
       "      <td>0.000000e+00</td>\n",
       "      <td>-2.112098e+00</td>\n",
       "      <td>-2.590963e+00</td>\n",
       "      <td>-2.573098e+00</td>\n",
       "      <td>-2.576017e+00</td>\n",
       "      <td>-1.583825e+00</td>\n",
       "      <td>-1.538390e+00</td>\n",
       "      <td>-1.519067e+00</td>\n",
       "      <td>-1.435270e+00</td>\n",
       "      <td>-8.901182e+00</td>\n",
       "      <td>...</td>\n",
       "      <td>0.0</td>\n",
       "      <td>0.0</td>\n",
       "      <td>0.0</td>\n",
       "      <td>0.0</td>\n",
       "      <td>-2.124623e+00</td>\n",
       "      <td>-9.920352e-01</td>\n",
       "      <td>-2.498105e+00</td>\n",
       "      <td>-4.999928e-01</td>\n",
       "      <td>-3.141584e+00</td>\n",
       "      <td>-2.499009e+00</td>\n",
       "    </tr>\n",
       "    <tr>\n",
       "      <th>25%</th>\n",
       "      <td>2.948388e+05</td>\n",
       "      <td>-8.339083e-01</td>\n",
       "      <td>-8.378547e-01</td>\n",
       "      <td>-8.368982e-01</td>\n",
       "      <td>-8.379445e-01</td>\n",
       "      <td>-8.268486e-01</td>\n",
       "      <td>-8.554224e-01</td>\n",
       "      <td>-8.339413e-01</td>\n",
       "      <td>-8.469162e-01</td>\n",
       "      <td>-7.401255e-01</td>\n",
       "      <td>...</td>\n",
       "      <td>0.0</td>\n",
       "      <td>0.0</td>\n",
       "      <td>0.0</td>\n",
       "      <td>0.0</td>\n",
       "      <td>-5.217347e-01</td>\n",
       "      <td>-9.920352e-01</td>\n",
       "      <td>-8.459116e-01</td>\n",
       "      <td>-2.055347e-01</td>\n",
       "      <td>-1.584667e+00</td>\n",
       "      <td>-2.074832e+00</td>\n",
       "    </tr>\n",
       "    <tr>\n",
       "      <th>50%</th>\n",
       "      <td>5.896775e+05</td>\n",
       "      <td>-1.214813e-02</td>\n",
       "      <td>-1.374387e-02</td>\n",
       "      <td>-1.370004e-02</td>\n",
       "      <td>-1.385850e-02</td>\n",
       "      <td>-1.644940e-01</td>\n",
       "      <td>-1.724547e-01</td>\n",
       "      <td>-1.488154e-01</td>\n",
       "      <td>-1.605036e-01</td>\n",
       "      <td>-3.750902e-03</td>\n",
       "      <td>...</td>\n",
       "      <td>0.0</td>\n",
       "      <td>0.0</td>\n",
       "      <td>0.0</td>\n",
       "      <td>0.0</td>\n",
       "      <td>1.256146e-02</td>\n",
       "      <td>-7.392128e-02</td>\n",
       "      <td>-4.794768e-03</td>\n",
       "      <td>2.155910e-04</td>\n",
       "      <td>8.142424e-03</td>\n",
       "      <td>1.523139e+00</td>\n",
       "    </tr>\n",
       "    <tr>\n",
       "      <th>75%</th>\n",
       "      <td>8.845162e+05</td>\n",
       "      <td>8.312126e-01</td>\n",
       "      <td>8.159859e-01</td>\n",
       "      <td>8.094982e-01</td>\n",
       "      <td>8.121005e-01</td>\n",
       "      <td>6.871047e-01</td>\n",
       "      <td>7.056466e-01</td>\n",
       "      <td>6.341855e-01</td>\n",
       "      <td>7.220270e-01</td>\n",
       "      <td>7.326237e-01</td>\n",
       "      <td>...</td>\n",
       "      <td>0.0</td>\n",
       "      <td>0.0</td>\n",
       "      <td>0.0</td>\n",
       "      <td>0.0</td>\n",
       "      <td>5.468577e-01</td>\n",
       "      <td>8.441926e-01</td>\n",
       "      <td>8.062822e-01</td>\n",
       "      <td>2.069167e-01</td>\n",
       "      <td>1.581958e+00</td>\n",
       "      <td>2.074729e+00</td>\n",
       "    </tr>\n",
       "    <tr>\n",
       "      <th>max</th>\n",
       "      <td>1.179355e+06</td>\n",
       "      <td>1.949746e+00</td>\n",
       "      <td>1.913552e+00</td>\n",
       "      <td>1.909590e+00</td>\n",
       "      <td>1.911506e+00</td>\n",
       "      <td>2.958035e+00</td>\n",
       "      <td>2.754550e+00</td>\n",
       "      <td>3.276814e+00</td>\n",
       "      <td>3.173501e+00</td>\n",
       "      <td>9.511558e+00</td>\n",
       "      <td>...</td>\n",
       "      <td>0.0</td>\n",
       "      <td>0.0</td>\n",
       "      <td>0.0</td>\n",
       "      <td>0.0</td>\n",
       "      <td>2.149746e+00</td>\n",
       "      <td>2.680420e+00</td>\n",
       "      <td>1.887718e+00</td>\n",
       "      <td>4.999991e-01</td>\n",
       "      <td>3.141592e+00</td>\n",
       "      <td>2.493834e+00</td>\n",
       "    </tr>\n",
       "  </tbody>\n",
       "</table>\n",
       "<p>8 rows × 35 columns</p>\n",
       "</div>"
      ],
      "text/plain": [
       "         Unnamed: 0         Phi_0         Phi_2         Phi_3         Phi_4  \\\n",
       "count  1.179356e+06  1.179356e+06  1.179356e+06  1.179356e+06  1.179356e+06   \n",
       "mean   5.896775e+05  7.146661e-17 -2.706296e-16 -7.705465e-16 -3.355171e-16   \n",
       "std    3.404509e+05  1.000000e+00  1.000000e+00  1.000000e+00  1.000000e+00   \n",
       "min    0.000000e+00 -2.112098e+00 -2.590963e+00 -2.573098e+00 -2.576017e+00   \n",
       "25%    2.948388e+05 -8.339083e-01 -8.378547e-01 -8.368982e-01 -8.379445e-01   \n",
       "50%    5.896775e+05 -1.214813e-02 -1.374387e-02 -1.370004e-02 -1.385850e-02   \n",
       "75%    8.845162e+05  8.312126e-01  8.159859e-01  8.094982e-01  8.121005e-01   \n",
       "max    1.179355e+06  1.949746e+00  1.913552e+00  1.909590e+00  1.911506e+00   \n",
       "\n",
       "            Theta_0       Theta_2       Theta_3       Theta_4  BendingAngle_0  \\\n",
       "count  1.179356e+06  1.179356e+06  1.179356e+06  1.179356e+06    1.179356e+06   \n",
       "mean  -2.781065e-16  8.641905e-16  6.533453e-16  3.205695e-16    2.842518e-17   \n",
       "std    1.000000e+00  1.000000e+00  1.000000e+00  1.000000e+00    1.000000e+00   \n",
       "min   -1.583825e+00 -1.538390e+00 -1.519067e+00 -1.435270e+00   -8.901182e+00   \n",
       "25%   -8.268486e-01 -8.554224e-01 -8.339413e-01 -8.469162e-01   -7.401255e-01   \n",
       "50%   -1.644940e-01 -1.724547e-01 -1.488154e-01 -1.605036e-01   -3.750902e-03   \n",
       "75%    6.871047e-01  7.056466e-01  6.341855e-01  7.220270e-01    7.326237e-01   \n",
       "max    2.958035e+00  2.754550e+00  3.276814e+00  3.173501e+00    9.511558e+00   \n",
       "\n",
       "       ...     Mask_0     Mask_2     Mask_3     Mask_4  PatternStraightness  \\\n",
       "count  ...  1179356.0  1179356.0  1179356.0  1179356.0         1.179356e+06   \n",
       "mean   ...        0.0        0.0        0.0        0.0        -4.221603e-17   \n",
       "std    ...        0.0        0.0        0.0        0.0         1.000000e+00   \n",
       "min    ...        0.0        0.0        0.0        0.0        -2.124623e+00   \n",
       "25%    ...        0.0        0.0        0.0        0.0        -5.217347e-01   \n",
       "50%    ...        0.0        0.0        0.0        0.0         1.256146e-02   \n",
       "75%    ...        0.0        0.0        0.0        0.0         5.468577e-01   \n",
       "max    ...        0.0        0.0        0.0        0.0         2.149746e+00   \n",
       "\n",
       "               Zone   MedianTheta          q/pt      PhiAngle      EtaAngle  \n",
       "count  1.179356e+06  1.179356e+06  1.179356e+06  1.179356e+06  1.179356e+06  \n",
       "mean  -8.916758e-18  1.504040e-16  5.540485e-04  8.881380e-04  8.762006e-04  \n",
       "std    1.000000e+00  1.000000e+00  2.524173e-01  1.820920e+00  2.075298e+00  \n",
       "min   -9.920352e-01 -2.498105e+00 -4.999928e-01 -3.141584e+00 -2.499009e+00  \n",
       "25%   -9.920352e-01 -8.459116e-01 -2.055347e-01 -1.584667e+00 -2.074832e+00  \n",
       "50%   -7.392128e-02 -4.794768e-03  2.155910e-04  8.142424e-03  1.523139e+00  \n",
       "75%    8.441926e-01  8.062822e-01  2.069167e-01  1.581958e+00  2.074729e+00  \n",
       "max    2.680420e+00  1.887718e+00  4.999991e-01  3.141592e+00  2.493834e+00  \n",
       "\n",
       "[8 rows x 35 columns]"
      ]
     },
     "execution_count": 11,
     "metadata": {},
     "output_type": "execute_result"
    }
   ],
   "source": [
    "df.describe()"
   ]
  },
  {
   "cell_type": "markdown",
   "id": "8442d0d9",
   "metadata": {
    "papermill": {
     "duration": 0.014434,
     "end_time": "2024-06-08T17:22:37.403948",
     "exception": false,
     "start_time": "2024-06-08T17:22:37.389514",
     "status": "completed"
    },
    "tags": []
   },
   "source": [
    "**We can see that the std dev and the mean has been transformed to 1 and 0 respectively**"
   ]
  },
  {
   "cell_type": "code",
   "execution_count": 12,
   "id": "e948134b",
   "metadata": {
    "execution": {
     "iopub.execute_input": "2024-06-08T17:22:37.435102Z",
     "iopub.status.busy": "2024-06-08T17:22:37.434642Z",
     "iopub.status.idle": "2024-06-08T17:22:37.443468Z",
     "shell.execute_reply": "2024-06-08T17:22:37.442463Z"
    },
    "papermill": {
     "duration": 0.027202,
     "end_time": "2024-06-08T17:22:37.445862",
     "exception": false,
     "start_time": "2024-06-08T17:22:37.418660",
     "status": "completed"
    },
    "tags": []
   },
   "outputs": [
    {
     "data": {
      "text/plain": [
       "['Phi_0',\n",
       " 'Phi_2',\n",
       " 'Phi_3',\n",
       " 'Phi_4',\n",
       " 'Theta_0',\n",
       " 'Theta_2',\n",
       " 'Theta_3',\n",
       " 'Theta_4',\n",
       " 'BendingAngle_0',\n",
       " 'BendingAngle_2',\n",
       " 'BendingAngle_3',\n",
       " 'BendingAngle_4',\n",
       " 'TimeInfo_0',\n",
       " 'TimeInfo_2',\n",
       " 'TimeInfo_3',\n",
       " 'TimeInfo_4',\n",
       " 'RingNumber_0',\n",
       " 'RingNumber_2',\n",
       " 'RingNumber_3',\n",
       " 'RingNumber_4',\n",
       " 'Front_0',\n",
       " 'Front_2',\n",
       " 'Front_3',\n",
       " 'Front_4',\n",
       " 'Mask_0',\n",
       " 'Mask_2',\n",
       " 'Mask_3',\n",
       " 'Mask_4']"
      ]
     },
     "execution_count": 12,
     "metadata": {},
     "output_type": "execute_result"
    }
   ],
   "source": [
    "features = list(df.columns)[1:29]\n",
    "features"
   ]
  },
  {
   "cell_type": "code",
   "execution_count": 13,
   "id": "defe5c76",
   "metadata": {
    "execution": {
     "iopub.execute_input": "2024-06-08T17:22:37.478112Z",
     "iopub.status.busy": "2024-06-08T17:22:37.476973Z",
     "iopub.status.idle": "2024-06-08T17:22:37.482080Z",
     "shell.execute_reply": "2024-06-08T17:22:37.480999Z"
    },
    "papermill": {
     "duration": 0.023986,
     "end_time": "2024-06-08T17:22:37.484632",
     "exception": false,
     "start_time": "2024-06-08T17:22:37.460646",
     "status": "completed"
    },
    "tags": []
   },
   "outputs": [],
   "source": [
    "# Lets split the data into train and the test splits"
   ]
  },
  {
   "cell_type": "code",
   "execution_count": 14,
   "id": "491d57ab",
   "metadata": {
    "execution": {
     "iopub.execute_input": "2024-06-08T17:22:37.517362Z",
     "iopub.status.busy": "2024-06-08T17:22:37.516963Z",
     "iopub.status.idle": "2024-06-08T17:22:37.684719Z",
     "shell.execute_reply": "2024-06-08T17:22:37.683319Z"
    },
    "papermill": {
     "duration": 0.187025,
     "end_time": "2024-06-08T17:22:37.687394",
     "exception": false,
     "start_time": "2024-06-08T17:22:37.500369",
     "status": "completed"
    },
    "tags": []
   },
   "outputs": [
    {
     "name": "stdout",
     "output_type": "stream",
     "text": [
      "Data shape: (1179356, 28)\n",
      "(1179356,)\n",
      "Len train: 943484, Len test: 235872\n",
      "Num. features: 28\n"
     ]
    }
   ],
   "source": [
    "train_idx, test_idx = train_test_split(df['Unnamed: 0'].to_numpy(), test_size = 0.2, random_state = 1)\n",
    "x_data = df[features].to_numpy()\n",
    "pT = abs(1/df.loc[:,'q/pt']).to_numpy()\n",
    "label = pT\n",
    "num_features = x_data.shape[-1]\n",
    "print('Data shape: ' + str(x_data.shape))\n",
    "print(pT.shape)\n",
    "print('Len train: '+str(len(train_idx))+', Len test: '+str(len(test_idx)))\n",
    "print('Num. features: '+str(num_features))"
   ]
  },
  {
   "cell_type": "code",
   "execution_count": 15,
   "id": "b15787e5",
   "metadata": {
    "execution": {
     "iopub.execute_input": "2024-06-08T17:22:37.719143Z",
     "iopub.status.busy": "2024-06-08T17:22:37.718711Z",
     "iopub.status.idle": "2024-06-08T17:22:37.728519Z",
     "shell.execute_reply": "2024-06-08T17:22:37.727018Z"
    },
    "papermill": {
     "duration": 0.028752,
     "end_time": "2024-06-08T17:22:37.731146",
     "exception": false,
     "start_time": "2024-06-08T17:22:37.702394",
     "status": "completed"
    },
    "tags": []
   },
   "outputs": [
    {
     "data": {
      "text/plain": [
       "(2.00000380000722, 6955.5709428241635)"
      ]
     },
     "execution_count": 15,
     "metadata": {},
     "output_type": "execute_result"
    }
   ],
   "source": [
    "label.min(), label.max()"
   ]
  },
  {
   "cell_type": "markdown",
   "id": "89fd86c8",
   "metadata": {
    "papermill": {
     "duration": 0.015909,
     "end_time": "2024-06-08T17:22:37.762535",
     "exception": false,
     "start_time": "2024-06-08T17:22:37.746626",
     "status": "completed"
    },
    "tags": []
   },
   "source": [
    "# Dataset Class and Data Loaders"
   ]
  },
  {
   "attachments": {
    "21e69227-e36e-4e3c-a883-0e3fa6794d3e.png": {
     "image/png": "[encoded data removed]"
    }
   },
   "cell_type": "markdown",
   "id": "2090ac4a",
   "metadata": {
    "papermill": {
     "duration": 0.014773,
     "end_time": "2024-06-08T17:22:37.792930",
     "exception": false,
     "start_time": "2024-06-08T17:22:37.778157",
     "status": "completed"
    },
    "tags": []
   },
   "source": [
    "![APPROACH1.png](attachment:21e69227-e36e-4e3c-a883-0e3fa6794d3e.png)"
   ]
  },
  {
   "cell_type": "markdown",
   "id": "1ab74248",
   "metadata": {
    "papermill": {
     "duration": 0.014549,
     "end_time": "2024-06-08T17:22:37.822418",
     "exception": false,
     "start_time": "2024-06-08T17:22:37.807869",
     "status": "completed"
    },
    "tags": []
   },
   "source": [
    "**The dataset is having 28 features extracted from 4 triggers ie 7 features per trigger**\n",
    "\n",
    "**Total approached to try**\n",
    "\n",
    "---------------------------------------------------------------------------------------------------------------------------\n",
    "\n",
    "- [ ] **Each station as a node : \n",
    "    Here basically each station(4),is made a node of the graph and the node feature is the features recieved at the respective station(7)**\n",
    "    \n",
    "    Here,\n",
    "         Total nodes = 4\n",
    "         node feature length = 7\n",
    "         edges should be between these 4 nodes (Yet to find out the best way to decide across which two nodes there should be and edge)\n",
    "    \n",
    "    \n",
    "---------------------------------------------------------------------------------------------------------------------------\n",
    "**(THIS NOTEBOOK)**\n",
    "- [x] **Each feature as a node :\n",
    "    Here basically each feature obtianed from different stations, here 4 stations are made a node of the graph and \n",
    "    the node feature is the values of this feature across the 4 different stations**\n",
    "    \n",
    "    Here,\n",
    "         Total nodes = 7\n",
    "         node feature length = 4\n",
    "         edges should be between these 7 nodes (Yet to find out the best way to decide across which two nodes there should be and edge)\n",
    "         \n",
    "---------------------------------------------------------------------------------------------------------------------------\n",
    "\n",
    "- [ ]  **Each patch as a node :\n",
    "    Here basically the data is converted into 7*4 matrix and then would have to split this into patches and then the features of the noden would be the flattened pixel values in each patch**\n",
    "    \n",
    "    Here,\n",
    "         Total nodes = total_patches \n",
    "         node feature length = pixels in each path\n",
    "         edges should be between these patch nodes (Yet to find out the best way to decide across which two nodes there should be and edge\n",
    "         \n",
    "---------------------------------------------------------------------------------------------------------------------------"
   ]
  },
  {
   "cell_type": "code",
   "execution_count": 16,
   "id": "44df8d16",
   "metadata": {
    "execution": {
     "iopub.execute_input": "2024-06-08T17:22:37.854277Z",
     "iopub.status.busy": "2024-06-08T17:22:37.853871Z",
     "iopub.status.idle": "2024-06-08T17:22:37.859101Z",
     "shell.execute_reply": "2024-06-08T17:22:37.857935Z"
    },
    "papermill": {
     "duration": 0.024337,
     "end_time": "2024-06-08T17:22:37.861690",
     "exception": false,
     "start_time": "2024-06-08T17:22:37.837353",
     "status": "completed"
    },
    "tags": []
   },
   "outputs": [],
   "source": [
    "# x_data.shape"
   ]
  },
  {
   "cell_type": "code",
   "execution_count": 17,
   "id": "24250345",
   "metadata": {
    "execution": {
     "iopub.execute_input": "2024-06-08T17:22:37.893673Z",
     "iopub.status.busy": "2024-06-08T17:22:37.893138Z",
     "iopub.status.idle": "2024-06-08T17:22:37.903220Z",
     "shell.execute_reply": "2024-06-08T17:22:37.901978Z"
    },
    "papermill": {
     "duration": 0.029095,
     "end_time": "2024-06-08T17:22:37.905733",
     "exception": false,
     "start_time": "2024-06-08T17:22:37.876638",
     "status": "completed"
    },
    "tags": []
   },
   "outputs": [],
   "source": [
    "class Graph_dataset(Dataset):\n",
    "    def __init__(self, dataset , label,  edge_index, indices, transform=None):\n",
    "        self.transform = transform\n",
    "        self.data = dataset\n",
    "        self.edge_index = edge_index\n",
    "        self.indices = indices\n",
    "        self.label = label\n",
    "    \n",
    "    def __getitem__(self, idx):\n",
    "        return self.convert_to_graph(self.indices[idx])\n",
    "    \n",
    "    def __len__(self):\n",
    "        return len(self.indices)\n",
    "    \n",
    "    def convert_to_graph(self, i):\n",
    "    \n",
    "        data = Data(x=torch.tensor(self.data[i].reshape(-1,7).T, dtype=torch.float), y=torch.tensor(self.label[i], dtype=torch.float),\n",
    "                    edge_index=torch.tensor(self.edge_index, dtype = torch.long).T)\n",
    "        return data"
   ]
  },
  {
   "cell_type": "code",
   "execution_count": 18,
   "id": "8ae4faba",
   "metadata": {
    "execution": {
     "iopub.execute_input": "2024-06-08T17:22:37.937653Z",
     "iopub.status.busy": "2024-06-08T17:22:37.937224Z",
     "iopub.status.idle": "2024-06-08T17:22:37.944235Z",
     "shell.execute_reply": "2024-06-08T17:22:37.943077Z"
    },
    "papermill": {
     "duration": 0.02595,
     "end_time": "2024-06-08T17:22:37.946805",
     "exception": false,
     "start_time": "2024-06-08T17:22:37.920855",
     "status": "completed"
    },
    "tags": []
   },
   "outputs": [],
   "source": [
    "edge_index = [(0,1),(1,2),(2,3),(3,2),(2,1),(1,0),(0,2),(2,0),(2,4),(2,5),(2,6),(4,2),(5,2),(6,2)]"
   ]
  },
  {
   "attachments": {
    "b9e9c0fc-2300-4bb2-b0ec-e469a32d8333.png": {
     "image/png": "[encoded data removed]"
    }
   },
   "cell_type": "markdown",
   "id": "9e5fda4f",
   "metadata": {
    "papermill": {
     "duration": 0.017977,
     "end_time": "2024-06-08T17:22:37.979925",
     "exception": false,
     "start_time": "2024-06-08T17:22:37.961948",
     "status": "completed"
    },
    "tags": []
   },
   "source": [
    "![7nodes.png](attachment:b9e9c0fc-2300-4bb2-b0ec-e469a32d8333.png)"
   ]
  },
  {
   "cell_type": "code",
   "execution_count": 19,
   "id": "38e42e40",
   "metadata": {
    "execution": {
     "iopub.execute_input": "2024-06-08T17:22:38.012393Z",
     "iopub.status.busy": "2024-06-08T17:22:38.011882Z",
     "iopub.status.idle": "2024-06-08T17:22:38.059098Z",
     "shell.execute_reply": "2024-06-08T17:22:38.057823Z"
    },
    "papermill": {
     "duration": 0.067018,
     "end_time": "2024-06-08T17:22:38.062244",
     "exception": false,
     "start_time": "2024-06-08T17:22:37.995226",
     "status": "completed"
    },
    "tags": []
   },
   "outputs": [
    {
     "data": {
      "text/plain": [
       "Data(x=[7, 4], edge_index=[2, 14], y=9.726032257080078)"
      ]
     },
     "execution_count": 19,
     "metadata": {},
     "output_type": "execute_result"
    }
   ],
   "source": [
    "train_dataset = Graph_dataset(x_data, label, edge_index , train_idx)\n",
    "next(iter(train_dataset))"
   ]
  },
  {
   "cell_type": "code",
   "execution_count": 20,
   "id": "a4359dd9",
   "metadata": {
    "execution": {
     "iopub.execute_input": "2024-06-08T17:22:38.104831Z",
     "iopub.status.busy": "2024-06-08T17:22:38.103905Z",
     "iopub.status.idle": "2024-06-08T17:22:38.111879Z",
     "shell.execute_reply": "2024-06-08T17:22:38.110367Z"
    },
    "papermill": {
     "duration": 0.037786,
     "end_time": "2024-06-08T17:22:38.116453",
     "exception": false,
     "start_time": "2024-06-08T17:22:38.078667",
     "status": "completed"
    },
    "tags": []
   },
   "outputs": [],
   "source": [
    "train_loader = DataLoader(Graph_dataset(x_data, label, edge_index , train_idx), batch_size=1024)\n",
    "test_loader = DataLoader(Graph_dataset(x_data, label, edge_index , test_idx), batch_size=512)"
   ]
  },
  {
   "cell_type": "code",
   "execution_count": 21,
   "id": "74e7247c",
   "metadata": {
    "execution": {
     "iopub.execute_input": "2024-06-08T17:22:38.162389Z",
     "iopub.status.busy": "2024-06-08T17:22:38.161429Z",
     "iopub.status.idle": "2024-06-08T17:22:38.379504Z",
     "shell.execute_reply": "2024-06-08T17:22:38.378072Z"
    },
    "papermill": {
     "duration": 0.244101,
     "end_time": "2024-06-08T17:22:38.382353",
     "exception": false,
     "start_time": "2024-06-08T17:22:38.138252",
     "status": "completed"
    },
    "tags": []
   },
   "outputs": [
    {
     "data": {
      "text/plain": [
       "DataBatch(x=[7168, 4], edge_index=[2, 14336], y=[1024], batch=[7168], ptr=[1025])"
      ]
     },
     "execution_count": 21,
     "metadata": {},
     "output_type": "execute_result"
    }
   ],
   "source": [
    "next(iter(train_loader))"
   ]
  },
  {
   "cell_type": "markdown",
   "id": "2a8c191a",
   "metadata": {
    "papermill": {
     "duration": 0.014981,
     "end_time": "2024-06-08T17:22:38.412685",
     "exception": false,
     "start_time": "2024-06-08T17:22:38.397704",
     "status": "completed"
    },
    "tags": []
   },
   "source": [
    "**We are all set with the dataset and the dataloader**"
   ]
  }
 ],
 "metadata": {
  "kaggle": {
   "accelerator": "none",
   "dataSources": [
    {
     "datasetId": 1424568,
     "sourceId": 2358933,
     "sourceType": "datasetVersion"
    }
   ],
   "dockerImageVersionId": 30733,
   "isGpuEnabled": false,
   "isInternetEnabled": true,
   "language": "python",
   "sourceType": "notebook"
  },
  "kernelspec": {
   "display_name": "Python 3",
   "language": "python",
   "name": "python3"
  },
  "language_info": {
   "codemirror_mode": {
    "name": "ipython",
    "version": 3
   },
   "file_extension": ".py",
   "mimetype": "text/x-python",
   "name": "python",
   "nbconvert_exporter": "python",
   "pygments_lexer": "ipython3",
   "version": "3.10.13"
  },
  "papermill": {
   "default_parameters": {},
   "duration": 49.13475,
   "end_time": "2024-06-08T17:22:39.954223",
   "environment_variables": {},
   "exception": null,
   "input_path": "__notebook__.ipynb",
   "output_path": "__notebook__.ipynb",
   "parameters": {},
   "start_time": "2024-06-08T17:21:50.819473",
   "version": "2.5.0"
  }
 },
 "nbformat": 4,
 "nbformat_minor": 5
}
